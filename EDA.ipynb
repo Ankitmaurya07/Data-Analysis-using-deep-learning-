{
  "nbformat": 4,
  "nbformat_minor": 0,
  "metadata": {
    "colab": {
      "provenance": []
    },
    "kernelspec": {
      "name": "python3",
      "display_name": "Python 3"
    },
    "language_info": {
      "name": "python"
    }
  },
  "cells": [
    {
      "cell_type": "markdown",
      "source": [
        "Video link:https:https://drive.google.com/drive/folders/1L05vMUsX2_XhmgIUn3wQ6bbVWHsVv2Se?usp=sharing"
      ],
      "metadata": {
        "id": "aM37SVrUPDC8"
      }
    },
    {
      "cell_type": "markdown",
      "source": [],
      "metadata": {
        "id": "YDkxEaUUpn0T"
      }
    },
    {
      "cell_type": "code",
      "source": [
        "from google.colab import drive\n",
        "drive.mount('/content/drive')"
      ],
      "metadata": {
        "colab": {
          "base_uri": "https://localhost:8080/"
        },
        "collapsed": true,
        "id": "4MIBLjNUu_Nq",
        "outputId": "3f0ff17e-54af-4836-e02b-677c310c9517"
      },
      "execution_count": null,
      "outputs": [
        {
          "output_type": "stream",
          "name": "stdout",
          "text": [
            "Drive already mounted at /content/drive; to attempt to forcibly remount, call drive.mount(\"/content/drive\", force_remount=True).\n"
          ]
        }
      ]
    },
    {
      "cell_type": "code",
      "execution_count": null,
      "metadata": {
        "id": "4qsAmBlnuxrq"
      },
      "outputs": [],
      "source": [
        "import pandas as pd\n",
        "import numpy as np\n",
        "import matplotlib.pyplot as plt\n"
      ]
    },
    {
      "cell_type": "markdown",
      "source": [
        "QUESTION 1-"
      ],
      "metadata": {
        "id": "BLbk77agRdBw"
      }
    },
    {
      "cell_type": "markdown",
      "source": [
        "Part A:\n"
      ],
      "metadata": {
        "id": "9Lvi7ObfRf6q"
      }
    },
    {
      "cell_type": "code",
      "source": [
        "house_data=pd.read_csv('/content/drive/MyDrive/assign_1_aiml/LAHD_Affordable_Housing_Projects_List__2003_to_Present_.csv')"
      ],
      "metadata": {
        "id": "aTuGEQL0u_Qb"
      },
      "execution_count": null,
      "outputs": []
    },
    {
      "cell_type": "code",
      "source": [
        "food_data=pd.read_csv('/content/drive/MyDrive/assign_1_aiml/Restaurant_and_Market_Health_Inspections.csv')"
      ],
      "metadata": {
        "id": "GaYpcuGOu_S3"
      },
      "execution_count": null,
      "outputs": []
    },
    {
      "cell_type": "markdown",
      "source": [
        "from pandas library read the csv files and stored the data"
      ],
      "metadata": {
        "id": "_DBpVoXRxACs"
      }
    },
    {
      "cell_type": "code",
      "source": [
        "house_data.head()\n"
      ],
      "metadata": {
        "colab": {
          "base_uri": "https://localhost:8080/",
          "height": 689
        },
        "collapsed": true,
        "id": "6fiGEKI2u_VX",
        "outputId": "b3034eea-e7f5-4b3b-bc96-096a84c392f8"
      },
      "execution_count": null,
      "outputs": [
        {
          "output_type": "execute_result",
          "data": {
            "text/plain": [
              "           APN PROJECT NUMBER  \\\n",
              "2   5114014020      14-121652   \n",
              "3   4012018025          60013   \n",
              "6   5037025018      14-121612   \n",
              "7   5119011019      13-120909   \n",
              "10  5682018046      19-125949   \n",
              "\n",
              "                                               NAME DEVELOPMENT STAGE  \\\n",
              "2                           FLORENCE MILLS (SITE 5)        In-Service   \n",
              "3                         MORGAN PLACE SENIOR APTS.        In-Service   \n",
              "6                                         KING 1101        In-Service   \n",
              "7   ROBERTA STEPHENS VILLAS I & II (RECAP) (SITE 2)        In-Service   \n",
              "10                                    COLORADO EAST        In-Service   \n",
              "\n",
              "      CONSTRUCTION TYPE                                       SITE ADDRESS  \\\n",
              "2      NEW CONSTRUCTION  1037 E MARTIN LUTHER KING BLVD  LOS ANGELES, C...   \n",
              "3      NEW CONSTRUCTION        7305 S CRENSHAW BLVD  Los Angeles, CA 90043   \n",
              "6      NEW CONSTRUCTION  1107 W MARTIN LUTHER KING BLVD  Los Angeles, C...   \n",
              "7   ACQUISITION + REHAB              1113 E 27TH ST  Los Angeles, CA 90011   \n",
              "10     NEW CONSTRUCTION        2451 W COLORADO BLVD  Los Angeles, CA 90041   \n",
              "\n",
              "    SITE  COUNCIL DISTRICT  SITE #   SITE COMMUNITY  SITE UNITS  ...  \\\n",
              "2                        9       5          CENTRAL           0  ...   \n",
              "3                        8       1        HYDE PARK          55  ...   \n",
              "6                        8       1  EXPOSITION PARK          26  ...   \n",
              "7                        9       2          CENTRAL           0  ...   \n",
              "10                      14       1       EAGLE ROCK          41  ...   \n",
              "\n",
              "     CONTACT PHONE                                              PHOTO   JOBS  \\\n",
              "2   (714) 533-3450  click here (http://hcidapp.lacity.org/mpphotos...  226.0   \n",
              "3   (213) 225-2772  click here (http://hcidapp.lacity.org/mpphotos...  110.0   \n",
              "6   (310) 358-3489  click here (http://hcidapp.lacity.org/mpphotos...   85.0   \n",
              "7   (323) 846-2500  click here (http://hcidapp.lacity.org/mpphotos...   32.0   \n",
              "10  (323) 256-6060  click here (http://hcidapp.lacity.org/mpphotos...  195.0   \n",
              "\n",
              "                                  PROJECT SUMMARY URL CONTRACT NUMBERS  \\\n",
              "2   click here (http://hcidapp.lacity.org/ahtfRepo...         C-129358   \n",
              "3   click here (http://hcidapp.lacity.org/ahtfRepo...         C-111486   \n",
              "6   click here (http://hcidapp.lacity.org/ahtfRepo...         C-127889   \n",
              "7   click here (http://hcidapp.lacity.org/ahtfRepo...          C-83407   \n",
              "10  click here (http://hcidapp.lacity.org/ahtfRepo...         C-136559   \n",
              "\n",
              "    DATE STAMP  SITE LONGITUDE  SITE LATITUDE            GPS_COORDS ON MAP  \\\n",
              "2   2024-08-05      -118.25740       34.01115   POINT (-118.2574 34.01115)   \n",
              "3   2024-08-05      -118.33139       33.97355  POINT (-118.33139 33.97355)   \n",
              "6   2024-08-05      -118.29437       34.01106  POINT (-118.29437 34.01106)   \n",
              "7   2024-08-05      -118.25506       34.01791  POINT (-118.25506 34.01791)   \n",
              "10  2024-08-05      -118.22027       34.14110   POINT (-118.22027 34.1411)   \n",
              "\n",
              "      zip  \n",
              "2   90011  \n",
              "3   90043  \n",
              "6   90037  \n",
              "7   90011  \n",
              "10  90041  \n",
              "\n",
              "[5 rows x 32 columns]"
            ],
            "text/html": [
              "\n",
              "  <div id=\"df-50af2128-fe94-4696-85a1-b5543b1b22a9\" class=\"colab-df-container\">\n",
              "    <div>\n",
              "<style scoped>\n",
              "    .dataframe tbody tr th:only-of-type {\n",
              "        vertical-align: middle;\n",
              "    }\n",
              "\n",
              "    .dataframe tbody tr th {\n",
              "        vertical-align: top;\n",
              "    }\n",
              "\n",
              "    .dataframe thead th {\n",
              "        text-align: right;\n",
              "    }\n",
              "</style>\n",
              "<table border=\"1\" class=\"dataframe\">\n",
              "  <thead>\n",
              "    <tr style=\"text-align: right;\">\n",
              "      <th></th>\n",
              "      <th>APN</th>\n",
              "      <th>PROJECT NUMBER</th>\n",
              "      <th>NAME</th>\n",
              "      <th>DEVELOPMENT STAGE</th>\n",
              "      <th>CONSTRUCTION TYPE</th>\n",
              "      <th>SITE ADDRESS</th>\n",
              "      <th>SITE  COUNCIL DISTRICT</th>\n",
              "      <th>SITE #</th>\n",
              "      <th>SITE COMMUNITY</th>\n",
              "      <th>SITE UNITS</th>\n",
              "      <th>...</th>\n",
              "      <th>CONTACT PHONE</th>\n",
              "      <th>PHOTO</th>\n",
              "      <th>JOBS</th>\n",
              "      <th>PROJECT SUMMARY URL</th>\n",
              "      <th>CONTRACT NUMBERS</th>\n",
              "      <th>DATE STAMP</th>\n",
              "      <th>SITE LONGITUDE</th>\n",
              "      <th>SITE LATITUDE</th>\n",
              "      <th>GPS_COORDS ON MAP</th>\n",
              "      <th>zip</th>\n",
              "    </tr>\n",
              "  </thead>\n",
              "  <tbody>\n",
              "    <tr>\n",
              "      <th>2</th>\n",
              "      <td>5114014020</td>\n",
              "      <td>14-121652</td>\n",
              "      <td>FLORENCE MILLS (SITE 5)</td>\n",
              "      <td>In-Service</td>\n",
              "      <td>NEW CONSTRUCTION</td>\n",
              "      <td>1037 E MARTIN LUTHER KING BLVD  LOS ANGELES, C...</td>\n",
              "      <td>9</td>\n",
              "      <td>5</td>\n",
              "      <td>CENTRAL</td>\n",
              "      <td>0</td>\n",
              "      <td>...</td>\n",
              "      <td>(714) 533-3450</td>\n",
              "      <td>click here (http://hcidapp.lacity.org/mpphotos...</td>\n",
              "      <td>226.0</td>\n",
              "      <td>click here (http://hcidapp.lacity.org/ahtfRepo...</td>\n",
              "      <td>C-129358</td>\n",
              "      <td>2024-08-05</td>\n",
              "      <td>-118.25740</td>\n",
              "      <td>34.01115</td>\n",
              "      <td>POINT (-118.2574 34.01115)</td>\n",
              "      <td>90011</td>\n",
              "    </tr>\n",
              "    <tr>\n",
              "      <th>3</th>\n",
              "      <td>4012018025</td>\n",
              "      <td>60013</td>\n",
              "      <td>MORGAN PLACE SENIOR APTS.</td>\n",
              "      <td>In-Service</td>\n",
              "      <td>NEW CONSTRUCTION</td>\n",
              "      <td>7305 S CRENSHAW BLVD  Los Angeles, CA 90043</td>\n",
              "      <td>8</td>\n",
              "      <td>1</td>\n",
              "      <td>HYDE PARK</td>\n",
              "      <td>55</td>\n",
              "      <td>...</td>\n",
              "      <td>(213) 225-2772</td>\n",
              "      <td>click here (http://hcidapp.lacity.org/mpphotos...</td>\n",
              "      <td>110.0</td>\n",
              "      <td>click here (http://hcidapp.lacity.org/ahtfRepo...</td>\n",
              "      <td>C-111486</td>\n",
              "      <td>2024-08-05</td>\n",
              "      <td>-118.33139</td>\n",
              "      <td>33.97355</td>\n",
              "      <td>POINT (-118.33139 33.97355)</td>\n",
              "      <td>90043</td>\n",
              "    </tr>\n",
              "    <tr>\n",
              "      <th>6</th>\n",
              "      <td>5037025018</td>\n",
              "      <td>14-121612</td>\n",
              "      <td>KING 1101</td>\n",
              "      <td>In-Service</td>\n",
              "      <td>NEW CONSTRUCTION</td>\n",
              "      <td>1107 W MARTIN LUTHER KING BLVD  Los Angeles, C...</td>\n",
              "      <td>8</td>\n",
              "      <td>1</td>\n",
              "      <td>EXPOSITION PARK</td>\n",
              "      <td>26</td>\n",
              "      <td>...</td>\n",
              "      <td>(310) 358-3489</td>\n",
              "      <td>click here (http://hcidapp.lacity.org/mpphotos...</td>\n",
              "      <td>85.0</td>\n",
              "      <td>click here (http://hcidapp.lacity.org/ahtfRepo...</td>\n",
              "      <td>C-127889</td>\n",
              "      <td>2024-08-05</td>\n",
              "      <td>-118.29437</td>\n",
              "      <td>34.01106</td>\n",
              "      <td>POINT (-118.29437 34.01106)</td>\n",
              "      <td>90037</td>\n",
              "    </tr>\n",
              "    <tr>\n",
              "      <th>7</th>\n",
              "      <td>5119011019</td>\n",
              "      <td>13-120909</td>\n",
              "      <td>ROBERTA STEPHENS VILLAS I &amp; II (RECAP) (SITE 2)</td>\n",
              "      <td>In-Service</td>\n",
              "      <td>ACQUISITION + REHAB</td>\n",
              "      <td>1113 E 27TH ST  Los Angeles, CA 90011</td>\n",
              "      <td>9</td>\n",
              "      <td>2</td>\n",
              "      <td>CENTRAL</td>\n",
              "      <td>0</td>\n",
              "      <td>...</td>\n",
              "      <td>(323) 846-2500</td>\n",
              "      <td>click here (http://hcidapp.lacity.org/mpphotos...</td>\n",
              "      <td>32.0</td>\n",
              "      <td>click here (http://hcidapp.lacity.org/ahtfRepo...</td>\n",
              "      <td>C-83407</td>\n",
              "      <td>2024-08-05</td>\n",
              "      <td>-118.25506</td>\n",
              "      <td>34.01791</td>\n",
              "      <td>POINT (-118.25506 34.01791)</td>\n",
              "      <td>90011</td>\n",
              "    </tr>\n",
              "    <tr>\n",
              "      <th>10</th>\n",
              "      <td>5682018046</td>\n",
              "      <td>19-125949</td>\n",
              "      <td>COLORADO EAST</td>\n",
              "      <td>In-Service</td>\n",
              "      <td>NEW CONSTRUCTION</td>\n",
              "      <td>2451 W COLORADO BLVD  Los Angeles, CA 90041</td>\n",
              "      <td>14</td>\n",
              "      <td>1</td>\n",
              "      <td>EAGLE ROCK</td>\n",
              "      <td>41</td>\n",
              "      <td>...</td>\n",
              "      <td>(323) 256-6060</td>\n",
              "      <td>click here (http://hcidapp.lacity.org/mpphotos...</td>\n",
              "      <td>195.0</td>\n",
              "      <td>click here (http://hcidapp.lacity.org/ahtfRepo...</td>\n",
              "      <td>C-136559</td>\n",
              "      <td>2024-08-05</td>\n",
              "      <td>-118.22027</td>\n",
              "      <td>34.14110</td>\n",
              "      <td>POINT (-118.22027 34.1411)</td>\n",
              "      <td>90041</td>\n",
              "    </tr>\n",
              "  </tbody>\n",
              "</table>\n",
              "<p>5 rows × 32 columns</p>\n",
              "</div>\n",
              "    <div class=\"colab-df-buttons\">\n",
              "\n",
              "  <div class=\"colab-df-container\">\n",
              "    <button class=\"colab-df-convert\" onclick=\"convertToInteractive('df-50af2128-fe94-4696-85a1-b5543b1b22a9')\"\n",
              "            title=\"Convert this dataframe to an interactive table.\"\n",
              "            style=\"display:none;\">\n",
              "\n",
              "  <svg xmlns=\"http://www.w3.org/2000/svg\" height=\"24px\" viewBox=\"0 -960 960 960\">\n",
              "    <path d=\"M120-120v-720h720v720H120Zm60-500h600v-160H180v160Zm220 220h160v-160H400v160Zm0 220h160v-160H400v160ZM180-400h160v-160H180v160Zm440 0h160v-160H620v160ZM180-180h160v-160H180v160Zm440 0h160v-160H620v160Z\"/>\n",
              "  </svg>\n",
              "    </button>\n",
              "\n",
              "  <style>\n",
              "    .colab-df-container {\n",
              "      display:flex;\n",
              "      gap: 12px;\n",
              "    }\n",
              "\n",
              "    .colab-df-convert {\n",
              "      background-color: #E8F0FE;\n",
              "      border: none;\n",
              "      border-radius: 50%;\n",
              "      cursor: pointer;\n",
              "      display: none;\n",
              "      fill: #1967D2;\n",
              "      height: 32px;\n",
              "      padding: 0 0 0 0;\n",
              "      width: 32px;\n",
              "    }\n",
              "\n",
              "    .colab-df-convert:hover {\n",
              "      background-color: #E2EBFA;\n",
              "      box-shadow: 0px 1px 2px rgba(60, 64, 67, 0.3), 0px 1px 3px 1px rgba(60, 64, 67, 0.15);\n",
              "      fill: #174EA6;\n",
              "    }\n",
              "\n",
              "    .colab-df-buttons div {\n",
              "      margin-bottom: 4px;\n",
              "    }\n",
              "\n",
              "    [theme=dark] .colab-df-convert {\n",
              "      background-color: #3B4455;\n",
              "      fill: #D2E3FC;\n",
              "    }\n",
              "\n",
              "    [theme=dark] .colab-df-convert:hover {\n",
              "      background-color: #434B5C;\n",
              "      box-shadow: 0px 1px 3px 1px rgba(0, 0, 0, 0.15);\n",
              "      filter: drop-shadow(0px 1px 2px rgba(0, 0, 0, 0.3));\n",
              "      fill: #FFFFFF;\n",
              "    }\n",
              "  </style>\n",
              "\n",
              "    <script>\n",
              "      const buttonEl =\n",
              "        document.querySelector('#df-50af2128-fe94-4696-85a1-b5543b1b22a9 button.colab-df-convert');\n",
              "      buttonEl.style.display =\n",
              "        google.colab.kernel.accessAllowed ? 'block' : 'none';\n",
              "\n",
              "      async function convertToInteractive(key) {\n",
              "        const element = document.querySelector('#df-50af2128-fe94-4696-85a1-b5543b1b22a9');\n",
              "        const dataTable =\n",
              "          await google.colab.kernel.invokeFunction('convertToInteractive',\n",
              "                                                    [key], {});\n",
              "        if (!dataTable) return;\n",
              "\n",
              "        const docLinkHtml = 'Like what you see? Visit the ' +\n",
              "          '<a target=\"_blank\" href=https://colab.research.google.com/notebooks/data_table.ipynb>data table notebook</a>'\n",
              "          + ' to learn more about interactive tables.';\n",
              "        element.innerHTML = '';\n",
              "        dataTable['output_type'] = 'display_data';\n",
              "        await google.colab.output.renderOutput(dataTable, element);\n",
              "        const docLink = document.createElement('div');\n",
              "        docLink.innerHTML = docLinkHtml;\n",
              "        element.appendChild(docLink);\n",
              "      }\n",
              "    </script>\n",
              "  </div>\n",
              "\n",
              "\n",
              "<div id=\"df-bb430f10-65d5-48af-8cae-3e7175c478f5\">\n",
              "  <button class=\"colab-df-quickchart\" onclick=\"quickchart('df-bb430f10-65d5-48af-8cae-3e7175c478f5')\"\n",
              "            title=\"Suggest charts\"\n",
              "            style=\"display:none;\">\n",
              "\n",
              "<svg xmlns=\"http://www.w3.org/2000/svg\" height=\"24px\"viewBox=\"0 0 24 24\"\n",
              "     width=\"24px\">\n",
              "    <g>\n",
              "        <path d=\"M19 3H5c-1.1 0-2 .9-2 2v14c0 1.1.9 2 2 2h14c1.1 0 2-.9 2-2V5c0-1.1-.9-2-2-2zM9 17H7v-7h2v7zm4 0h-2V7h2v10zm4 0h-2v-4h2v4z\"/>\n",
              "    </g>\n",
              "</svg>\n",
              "  </button>\n",
              "\n",
              "<style>\n",
              "  .colab-df-quickchart {\n",
              "      --bg-color: #E8F0FE;\n",
              "      --fill-color: #1967D2;\n",
              "      --hover-bg-color: #E2EBFA;\n",
              "      --hover-fill-color: #174EA6;\n",
              "      --disabled-fill-color: #AAA;\n",
              "      --disabled-bg-color: #DDD;\n",
              "  }\n",
              "\n",
              "  [theme=dark] .colab-df-quickchart {\n",
              "      --bg-color: #3B4455;\n",
              "      --fill-color: #D2E3FC;\n",
              "      --hover-bg-color: #434B5C;\n",
              "      --hover-fill-color: #FFFFFF;\n",
              "      --disabled-bg-color: #3B4455;\n",
              "      --disabled-fill-color: #666;\n",
              "  }\n",
              "\n",
              "  .colab-df-quickchart {\n",
              "    background-color: var(--bg-color);\n",
              "    border: none;\n",
              "    border-radius: 50%;\n",
              "    cursor: pointer;\n",
              "    display: none;\n",
              "    fill: var(--fill-color);\n",
              "    height: 32px;\n",
              "    padding: 0;\n",
              "    width: 32px;\n",
              "  }\n",
              "\n",
              "  .colab-df-quickchart:hover {\n",
              "    background-color: var(--hover-bg-color);\n",
              "    box-shadow: 0 1px 2px rgba(60, 64, 67, 0.3), 0 1px 3px 1px rgba(60, 64, 67, 0.15);\n",
              "    fill: var(--button-hover-fill-color);\n",
              "  }\n",
              "\n",
              "  .colab-df-quickchart-complete:disabled,\n",
              "  .colab-df-quickchart-complete:disabled:hover {\n",
              "    background-color: var(--disabled-bg-color);\n",
              "    fill: var(--disabled-fill-color);\n",
              "    box-shadow: none;\n",
              "  }\n",
              "\n",
              "  .colab-df-spinner {\n",
              "    border: 2px solid var(--fill-color);\n",
              "    border-color: transparent;\n",
              "    border-bottom-color: var(--fill-color);\n",
              "    animation:\n",
              "      spin 1s steps(1) infinite;\n",
              "  }\n",
              "\n",
              "  @keyframes spin {\n",
              "    0% {\n",
              "      border-color: transparent;\n",
              "      border-bottom-color: var(--fill-color);\n",
              "      border-left-color: var(--fill-color);\n",
              "    }\n",
              "    20% {\n",
              "      border-color: transparent;\n",
              "      border-left-color: var(--fill-color);\n",
              "      border-top-color: var(--fill-color);\n",
              "    }\n",
              "    30% {\n",
              "      border-color: transparent;\n",
              "      border-left-color: var(--fill-color);\n",
              "      border-top-color: var(--fill-color);\n",
              "      border-right-color: var(--fill-color);\n",
              "    }\n",
              "    40% {\n",
              "      border-color: transparent;\n",
              "      border-right-color: var(--fill-color);\n",
              "      border-top-color: var(--fill-color);\n",
              "    }\n",
              "    60% {\n",
              "      border-color: transparent;\n",
              "      border-right-color: var(--fill-color);\n",
              "    }\n",
              "    80% {\n",
              "      border-color: transparent;\n",
              "      border-right-color: var(--fill-color);\n",
              "      border-bottom-color: var(--fill-color);\n",
              "    }\n",
              "    90% {\n",
              "      border-color: transparent;\n",
              "      border-bottom-color: var(--fill-color);\n",
              "    }\n",
              "  }\n",
              "</style>\n",
              "\n",
              "  <script>\n",
              "    async function quickchart(key) {\n",
              "      const quickchartButtonEl =\n",
              "        document.querySelector('#' + key + ' button');\n",
              "      quickchartButtonEl.disabled = true;  // To prevent multiple clicks.\n",
              "      quickchartButtonEl.classList.add('colab-df-spinner');\n",
              "      try {\n",
              "        const charts = await google.colab.kernel.invokeFunction(\n",
              "            'suggestCharts', [key], {});\n",
              "      } catch (error) {\n",
              "        console.error('Error during call to suggestCharts:', error);\n",
              "      }\n",
              "      quickchartButtonEl.classList.remove('colab-df-spinner');\n",
              "      quickchartButtonEl.classList.add('colab-df-quickchart-complete');\n",
              "    }\n",
              "    (() => {\n",
              "      let quickchartButtonEl =\n",
              "        document.querySelector('#df-bb430f10-65d5-48af-8cae-3e7175c478f5 button');\n",
              "      quickchartButtonEl.style.display =\n",
              "        google.colab.kernel.accessAllowed ? 'block' : 'none';\n",
              "    })();\n",
              "  </script>\n",
              "</div>\n",
              "\n",
              "    </div>\n",
              "  </div>\n"
            ],
            "application/vnd.google.colaboratory.intrinsic+json": {
              "type": "dataframe",
              "variable_name": "house_data"
            }
          },
          "metadata": {},
          "execution_count": 106
        }
      ]
    },
    {
      "cell_type": "code",
      "source": [
        "food_data.head()"
      ],
      "metadata": {
        "colab": {
          "base_uri": "https://localhost:8080/",
          "height": 469
        },
        "id": "TyKCgGhRu_Wu",
        "outputId": "bf3586dd-ebd4-41c7-cdf8-0e462966ef22"
      },
      "execution_count": null,
      "outputs": [
        {
          "output_type": "execute_result",
          "data": {
            "text/plain": [
              "  serial_number           activity_date        facility_name  score grade  \\\n",
              "0     DAJ00E07B  12/29/2017 12:00:00 AM  HABITAT COFFEE SHOP     95     A   \n",
              "1     DAQOKRFZB  12/29/2017 12:00:00 AM             REILLY'S     92     A   \n",
              "2     DASJI4LUR  12/29/2017 12:00:00 AM       STREET CHURROS     93     A   \n",
              "3     DA40LU5AT  12/29/2017 12:00:00 AM    TRINITI ECHO PARK     94     A   \n",
              "4     DAXV2RMYC  12/29/2017 12:00:00 AM               POLLEN     94     A   \n",
              "\n",
              "   service_code service_description employee_id           facility_address  \\\n",
              "0             1  ROUTINE INSPECTION   EE0000923     3708 N EAGLE ROCK BLVD   \n",
              "1             1  ROUTINE INSPECTION   EE0000633        100 WORLD WAY # 120   \n",
              "2             1  ROUTINE INSPECTION   EE0000835  6801 HOLLYWOOD BLVD # 253   \n",
              "3             1  ROUTINE INSPECTION   EE0000923         1814 W SUNSET BLVD   \n",
              "4             1  ROUTINE INSPECTION   EE0000923         2100 ECHO PARK AVE   \n",
              "\n",
              "  facility_city facility_id facility_state facility_zip   owner_id  \\\n",
              "0   LOS ANGELES   FA0170465             CA        90065  OW0178123   \n",
              "1   LOS ANGELES   FA0244690             CA        90045  OW0208441   \n",
              "2   LOS ANGELES   FA0224109             CA        90028  OW0228670   \n",
              "3   LOS ANGELES   FA0252528             CA   90026-3227  OW0246287   \n",
              "4   LOS ANGELES   FA0252789             CA        90026  OW0246479   \n",
              "\n",
              "                  owner_name                         pe_description  \\\n",
              "0   GLASSELL COFFEE SHOP LLC  RESTAURANT (0-30) SEATS MODERATE RISK   \n",
              "1  AREAS SKYVIEW LAX JV, LLC  RESTAURANT (0-30) SEATS MODERATE RISK   \n",
              "2         STREETCHURROS, INC       RESTAURANT (0-30) SEATS LOW RISK   \n",
              "3       AMERICAN HOSPITALITY  RESTAURANT (0-30) SEATS MODERATE RISK   \n",
              "4    POLLEN AND PASTRY , LLC  RESTAURANT (0-30) SEATS MODERATE RISK   \n",
              "\n",
              "   program_element_pe         program_name program_status  record_id  \n",
              "0                1631  HABITAT COFFEE SHOP         ACTIVE  PR0160774  \n",
              "1                1631             REILLY'S         ACTIVE  PR0193026  \n",
              "2                1630       STREET CHURROS         ACTIVE  PR0179282  \n",
              "3                1631    TRINITI ECHO PARK         ACTIVE  PR0201836  \n",
              "4                1631               POLLEN         ACTIVE  PR0202148  "
            ],
            "text/html": [
              "\n",
              "  <div id=\"df-48443f8d-6a46-4555-bf3e-7080d89397e8\" class=\"colab-df-container\">\n",
              "    <div>\n",
              "<style scoped>\n",
              "    .dataframe tbody tr th:only-of-type {\n",
              "        vertical-align: middle;\n",
              "    }\n",
              "\n",
              "    .dataframe tbody tr th {\n",
              "        vertical-align: top;\n",
              "    }\n",
              "\n",
              "    .dataframe thead th {\n",
              "        text-align: right;\n",
              "    }\n",
              "</style>\n",
              "<table border=\"1\" class=\"dataframe\">\n",
              "  <thead>\n",
              "    <tr style=\"text-align: right;\">\n",
              "      <th></th>\n",
              "      <th>serial_number</th>\n",
              "      <th>activity_date</th>\n",
              "      <th>facility_name</th>\n",
              "      <th>score</th>\n",
              "      <th>grade</th>\n",
              "      <th>service_code</th>\n",
              "      <th>service_description</th>\n",
              "      <th>employee_id</th>\n",
              "      <th>facility_address</th>\n",
              "      <th>facility_city</th>\n",
              "      <th>facility_id</th>\n",
              "      <th>facility_state</th>\n",
              "      <th>facility_zip</th>\n",
              "      <th>owner_id</th>\n",
              "      <th>owner_name</th>\n",
              "      <th>pe_description</th>\n",
              "      <th>program_element_pe</th>\n",
              "      <th>program_name</th>\n",
              "      <th>program_status</th>\n",
              "      <th>record_id</th>\n",
              "    </tr>\n",
              "  </thead>\n",
              "  <tbody>\n",
              "    <tr>\n",
              "      <th>0</th>\n",
              "      <td>DAJ00E07B</td>\n",
              "      <td>12/29/2017 12:00:00 AM</td>\n",
              "      <td>HABITAT COFFEE SHOP</td>\n",
              "      <td>95</td>\n",
              "      <td>A</td>\n",
              "      <td>1</td>\n",
              "      <td>ROUTINE INSPECTION</td>\n",
              "      <td>EE0000923</td>\n",
              "      <td>3708 N EAGLE ROCK BLVD</td>\n",
              "      <td>LOS ANGELES</td>\n",
              "      <td>FA0170465</td>\n",
              "      <td>CA</td>\n",
              "      <td>90065</td>\n",
              "      <td>OW0178123</td>\n",
              "      <td>GLASSELL COFFEE SHOP LLC</td>\n",
              "      <td>RESTAURANT (0-30) SEATS MODERATE RISK</td>\n",
              "      <td>1631</td>\n",
              "      <td>HABITAT COFFEE SHOP</td>\n",
              "      <td>ACTIVE</td>\n",
              "      <td>PR0160774</td>\n",
              "    </tr>\n",
              "    <tr>\n",
              "      <th>1</th>\n",
              "      <td>DAQOKRFZB</td>\n",
              "      <td>12/29/2017 12:00:00 AM</td>\n",
              "      <td>REILLY'S</td>\n",
              "      <td>92</td>\n",
              "      <td>A</td>\n",
              "      <td>1</td>\n",
              "      <td>ROUTINE INSPECTION</td>\n",
              "      <td>EE0000633</td>\n",
              "      <td>100 WORLD WAY # 120</td>\n",
              "      <td>LOS ANGELES</td>\n",
              "      <td>FA0244690</td>\n",
              "      <td>CA</td>\n",
              "      <td>90045</td>\n",
              "      <td>OW0208441</td>\n",
              "      <td>AREAS SKYVIEW LAX JV, LLC</td>\n",
              "      <td>RESTAURANT (0-30) SEATS MODERATE RISK</td>\n",
              "      <td>1631</td>\n",
              "      <td>REILLY'S</td>\n",
              "      <td>ACTIVE</td>\n",
              "      <td>PR0193026</td>\n",
              "    </tr>\n",
              "    <tr>\n",
              "      <th>2</th>\n",
              "      <td>DASJI4LUR</td>\n",
              "      <td>12/29/2017 12:00:00 AM</td>\n",
              "      <td>STREET CHURROS</td>\n",
              "      <td>93</td>\n",
              "      <td>A</td>\n",
              "      <td>1</td>\n",
              "      <td>ROUTINE INSPECTION</td>\n",
              "      <td>EE0000835</td>\n",
              "      <td>6801 HOLLYWOOD BLVD # 253</td>\n",
              "      <td>LOS ANGELES</td>\n",
              "      <td>FA0224109</td>\n",
              "      <td>CA</td>\n",
              "      <td>90028</td>\n",
              "      <td>OW0228670</td>\n",
              "      <td>STREETCHURROS, INC</td>\n",
              "      <td>RESTAURANT (0-30) SEATS LOW RISK</td>\n",
              "      <td>1630</td>\n",
              "      <td>STREET CHURROS</td>\n",
              "      <td>ACTIVE</td>\n",
              "      <td>PR0179282</td>\n",
              "    </tr>\n",
              "    <tr>\n",
              "      <th>3</th>\n",
              "      <td>DA40LU5AT</td>\n",
              "      <td>12/29/2017 12:00:00 AM</td>\n",
              "      <td>TRINITI ECHO PARK</td>\n",
              "      <td>94</td>\n",
              "      <td>A</td>\n",
              "      <td>1</td>\n",
              "      <td>ROUTINE INSPECTION</td>\n",
              "      <td>EE0000923</td>\n",
              "      <td>1814 W SUNSET BLVD</td>\n",
              "      <td>LOS ANGELES</td>\n",
              "      <td>FA0252528</td>\n",
              "      <td>CA</td>\n",
              "      <td>90026-3227</td>\n",
              "      <td>OW0246287</td>\n",
              "      <td>AMERICAN HOSPITALITY</td>\n",
              "      <td>RESTAURANT (0-30) SEATS MODERATE RISK</td>\n",
              "      <td>1631</td>\n",
              "      <td>TRINITI ECHO PARK</td>\n",
              "      <td>ACTIVE</td>\n",
              "      <td>PR0201836</td>\n",
              "    </tr>\n",
              "    <tr>\n",
              "      <th>4</th>\n",
              "      <td>DAXV2RMYC</td>\n",
              "      <td>12/29/2017 12:00:00 AM</td>\n",
              "      <td>POLLEN</td>\n",
              "      <td>94</td>\n",
              "      <td>A</td>\n",
              "      <td>1</td>\n",
              "      <td>ROUTINE INSPECTION</td>\n",
              "      <td>EE0000923</td>\n",
              "      <td>2100 ECHO PARK AVE</td>\n",
              "      <td>LOS ANGELES</td>\n",
              "      <td>FA0252789</td>\n",
              "      <td>CA</td>\n",
              "      <td>90026</td>\n",
              "      <td>OW0246479</td>\n",
              "      <td>POLLEN AND PASTRY , LLC</td>\n",
              "      <td>RESTAURANT (0-30) SEATS MODERATE RISK</td>\n",
              "      <td>1631</td>\n",
              "      <td>POLLEN</td>\n",
              "      <td>ACTIVE</td>\n",
              "      <td>PR0202148</td>\n",
              "    </tr>\n",
              "  </tbody>\n",
              "</table>\n",
              "</div>\n",
              "    <div class=\"colab-df-buttons\">\n",
              "\n",
              "  <div class=\"colab-df-container\">\n",
              "    <button class=\"colab-df-convert\" onclick=\"convertToInteractive('df-48443f8d-6a46-4555-bf3e-7080d89397e8')\"\n",
              "            title=\"Convert this dataframe to an interactive table.\"\n",
              "            style=\"display:none;\">\n",
              "\n",
              "  <svg xmlns=\"http://www.w3.org/2000/svg\" height=\"24px\" viewBox=\"0 -960 960 960\">\n",
              "    <path d=\"M120-120v-720h720v720H120Zm60-500h600v-160H180v160Zm220 220h160v-160H400v160Zm0 220h160v-160H400v160ZM180-400h160v-160H180v160Zm440 0h160v-160H620v160ZM180-180h160v-160H180v160Zm440 0h160v-160H620v160Z\"/>\n",
              "  </svg>\n",
              "    </button>\n",
              "\n",
              "  <style>\n",
              "    .colab-df-container {\n",
              "      display:flex;\n",
              "      gap: 12px;\n",
              "    }\n",
              "\n",
              "    .colab-df-convert {\n",
              "      background-color: #E8F0FE;\n",
              "      border: none;\n",
              "      border-radius: 50%;\n",
              "      cursor: pointer;\n",
              "      display: none;\n",
              "      fill: #1967D2;\n",
              "      height: 32px;\n",
              "      padding: 0 0 0 0;\n",
              "      width: 32px;\n",
              "    }\n",
              "\n",
              "    .colab-df-convert:hover {\n",
              "      background-color: #E2EBFA;\n",
              "      box-shadow: 0px 1px 2px rgba(60, 64, 67, 0.3), 0px 1px 3px 1px rgba(60, 64, 67, 0.15);\n",
              "      fill: #174EA6;\n",
              "    }\n",
              "\n",
              "    .colab-df-buttons div {\n",
              "      margin-bottom: 4px;\n",
              "    }\n",
              "\n",
              "    [theme=dark] .colab-df-convert {\n",
              "      background-color: #3B4455;\n",
              "      fill: #D2E3FC;\n",
              "    }\n",
              "\n",
              "    [theme=dark] .colab-df-convert:hover {\n",
              "      background-color: #434B5C;\n",
              "      box-shadow: 0px 1px 3px 1px rgba(0, 0, 0, 0.15);\n",
              "      filter: drop-shadow(0px 1px 2px rgba(0, 0, 0, 0.3));\n",
              "      fill: #FFFFFF;\n",
              "    }\n",
              "  </style>\n",
              "\n",
              "    <script>\n",
              "      const buttonEl =\n",
              "        document.querySelector('#df-48443f8d-6a46-4555-bf3e-7080d89397e8 button.colab-df-convert');\n",
              "      buttonEl.style.display =\n",
              "        google.colab.kernel.accessAllowed ? 'block' : 'none';\n",
              "\n",
              "      async function convertToInteractive(key) {\n",
              "        const element = document.querySelector('#df-48443f8d-6a46-4555-bf3e-7080d89397e8');\n",
              "        const dataTable =\n",
              "          await google.colab.kernel.invokeFunction('convertToInteractive',\n",
              "                                                    [key], {});\n",
              "        if (!dataTable) return;\n",
              "\n",
              "        const docLinkHtml = 'Like what you see? Visit the ' +\n",
              "          '<a target=\"_blank\" href=https://colab.research.google.com/notebooks/data_table.ipynb>data table notebook</a>'\n",
              "          + ' to learn more about interactive tables.';\n",
              "        element.innerHTML = '';\n",
              "        dataTable['output_type'] = 'display_data';\n",
              "        await google.colab.output.renderOutput(dataTable, element);\n",
              "        const docLink = document.createElement('div');\n",
              "        docLink.innerHTML = docLinkHtml;\n",
              "        element.appendChild(docLink);\n",
              "      }\n",
              "    </script>\n",
              "  </div>\n",
              "\n",
              "\n",
              "<div id=\"df-7076a16b-4075-4d6a-8c78-db1e652c6b10\">\n",
              "  <button class=\"colab-df-quickchart\" onclick=\"quickchart('df-7076a16b-4075-4d6a-8c78-db1e652c6b10')\"\n",
              "            title=\"Suggest charts\"\n",
              "            style=\"display:none;\">\n",
              "\n",
              "<svg xmlns=\"http://www.w3.org/2000/svg\" height=\"24px\"viewBox=\"0 0 24 24\"\n",
              "     width=\"24px\">\n",
              "    <g>\n",
              "        <path d=\"M19 3H5c-1.1 0-2 .9-2 2v14c0 1.1.9 2 2 2h14c1.1 0 2-.9 2-2V5c0-1.1-.9-2-2-2zM9 17H7v-7h2v7zm4 0h-2V7h2v10zm4 0h-2v-4h2v4z\"/>\n",
              "    </g>\n",
              "</svg>\n",
              "  </button>\n",
              "\n",
              "<style>\n",
              "  .colab-df-quickchart {\n",
              "      --bg-color: #E8F0FE;\n",
              "      --fill-color: #1967D2;\n",
              "      --hover-bg-color: #E2EBFA;\n",
              "      --hover-fill-color: #174EA6;\n",
              "      --disabled-fill-color: #AAA;\n",
              "      --disabled-bg-color: #DDD;\n",
              "  }\n",
              "\n",
              "  [theme=dark] .colab-df-quickchart {\n",
              "      --bg-color: #3B4455;\n",
              "      --fill-color: #D2E3FC;\n",
              "      --hover-bg-color: #434B5C;\n",
              "      --hover-fill-color: #FFFFFF;\n",
              "      --disabled-bg-color: #3B4455;\n",
              "      --disabled-fill-color: #666;\n",
              "  }\n",
              "\n",
              "  .colab-df-quickchart {\n",
              "    background-color: var(--bg-color);\n",
              "    border: none;\n",
              "    border-radius: 50%;\n",
              "    cursor: pointer;\n",
              "    display: none;\n",
              "    fill: var(--fill-color);\n",
              "    height: 32px;\n",
              "    padding: 0;\n",
              "    width: 32px;\n",
              "  }\n",
              "\n",
              "  .colab-df-quickchart:hover {\n",
              "    background-color: var(--hover-bg-color);\n",
              "    box-shadow: 0 1px 2px rgba(60, 64, 67, 0.3), 0 1px 3px 1px rgba(60, 64, 67, 0.15);\n",
              "    fill: var(--button-hover-fill-color);\n",
              "  }\n",
              "\n",
              "  .colab-df-quickchart-complete:disabled,\n",
              "  .colab-df-quickchart-complete:disabled:hover {\n",
              "    background-color: var(--disabled-bg-color);\n",
              "    fill: var(--disabled-fill-color);\n",
              "    box-shadow: none;\n",
              "  }\n",
              "\n",
              "  .colab-df-spinner {\n",
              "    border: 2px solid var(--fill-color);\n",
              "    border-color: transparent;\n",
              "    border-bottom-color: var(--fill-color);\n",
              "    animation:\n",
              "      spin 1s steps(1) infinite;\n",
              "  }\n",
              "\n",
              "  @keyframes spin {\n",
              "    0% {\n",
              "      border-color: transparent;\n",
              "      border-bottom-color: var(--fill-color);\n",
              "      border-left-color: var(--fill-color);\n",
              "    }\n",
              "    20% {\n",
              "      border-color: transparent;\n",
              "      border-left-color: var(--fill-color);\n",
              "      border-top-color: var(--fill-color);\n",
              "    }\n",
              "    30% {\n",
              "      border-color: transparent;\n",
              "      border-left-color: var(--fill-color);\n",
              "      border-top-color: var(--fill-color);\n",
              "      border-right-color: var(--fill-color);\n",
              "    }\n",
              "    40% {\n",
              "      border-color: transparent;\n",
              "      border-right-color: var(--fill-color);\n",
              "      border-top-color: var(--fill-color);\n",
              "    }\n",
              "    60% {\n",
              "      border-color: transparent;\n",
              "      border-right-color: var(--fill-color);\n",
              "    }\n",
              "    80% {\n",
              "      border-color: transparent;\n",
              "      border-right-color: var(--fill-color);\n",
              "      border-bottom-color: var(--fill-color);\n",
              "    }\n",
              "    90% {\n",
              "      border-color: transparent;\n",
              "      border-bottom-color: var(--fill-color);\n",
              "    }\n",
              "  }\n",
              "</style>\n",
              "\n",
              "  <script>\n",
              "    async function quickchart(key) {\n",
              "      const quickchartButtonEl =\n",
              "        document.querySelector('#' + key + ' button');\n",
              "      quickchartButtonEl.disabled = true;  // To prevent multiple clicks.\n",
              "      quickchartButtonEl.classList.add('colab-df-spinner');\n",
              "      try {\n",
              "        const charts = await google.colab.kernel.invokeFunction(\n",
              "            'suggestCharts', [key], {});\n",
              "      } catch (error) {\n",
              "        console.error('Error during call to suggestCharts:', error);\n",
              "      }\n",
              "      quickchartButtonEl.classList.remove('colab-df-spinner');\n",
              "      quickchartButtonEl.classList.add('colab-df-quickchart-complete');\n",
              "    }\n",
              "    (() => {\n",
              "      let quickchartButtonEl =\n",
              "        document.querySelector('#df-7076a16b-4075-4d6a-8c78-db1e652c6b10 button');\n",
              "      quickchartButtonEl.style.display =\n",
              "        google.colab.kernel.accessAllowed ? 'block' : 'none';\n",
              "    })();\n",
              "  </script>\n",
              "</div>\n",
              "\n",
              "    </div>\n",
              "  </div>\n"
            ],
            "application/vnd.google.colaboratory.intrinsic+json": {
              "type": "dataframe",
              "variable_name": "food_data",
              "summary": "{\n  \"name\": \"food_data\",\n  \"rows\": 67573,\n  \"fields\": [\n    {\n      \"column\": \"serial_number\",\n      \"properties\": {\n        \"dtype\": \"string\",\n        \"num_unique_values\": 67573,\n        \"samples\": [\n          \"DARD5YVDW\",\n          \"DA01VXY44\",\n          \"DATFJEOQV\"\n        ],\n        \"semantic_type\": \"\",\n        \"description\": \"\"\n      }\n    },\n    {\n      \"column\": \"activity_date\",\n      \"properties\": {\n        \"dtype\": \"object\",\n        \"num_unique_values\": 860,\n        \"samples\": [\n          \"01/19/2018 12:00:00 AM\",\n          \"10/29/2015 12:00:00 AM\",\n          \"07/28/2017 12:00:00 AM\"\n        ],\n        \"semantic_type\": \"\",\n        \"description\": \"\"\n      }\n    },\n    {\n      \"column\": \"facility_name\",\n      \"properties\": {\n        \"dtype\": \"category\",\n        \"num_unique_values\": 12071,\n        \"samples\": [\n          \"CHURCH'S FRIED CHICEKN #147\",\n          \"TOGO'S / 31 BASKIN ROBBINS\",\n          \"POSTO GIUSTO\"\n        ],\n        \"semantic_type\": \"\",\n        \"description\": \"\"\n      }\n    },\n    {\n      \"column\": \"score\",\n      \"properties\": {\n        \"dtype\": \"number\",\n        \"std\": 3,\n        \"min\": 64,\n        \"max\": 100,\n        \"num_unique_values\": 36,\n        \"samples\": [\n          66,\n          86,\n          75\n        ],\n        \"semantic_type\": \"\",\n        \"description\": \"\"\n      }\n    },\n    {\n      \"column\": \"grade\",\n      \"properties\": {\n        \"dtype\": \"category\",\n        \"num_unique_values\": 4,\n        \"samples\": [\n          \"B\",\n          \" \",\n          \"A\"\n        ],\n        \"semantic_type\": \"\",\n        \"description\": \"\"\n      }\n    },\n    {\n      \"column\": \"service_code\",\n      \"properties\": {\n        \"dtype\": \"number\",\n        \"std\": 51,\n        \"min\": 1,\n        \"max\": 401,\n        \"num_unique_values\": 2,\n        \"samples\": [\n          401,\n          1\n        ],\n        \"semantic_type\": \"\",\n        \"description\": \"\"\n      }\n    },\n    {\n      \"column\": \"service_description\",\n      \"properties\": {\n        \"dtype\": \"category\",\n        \"num_unique_values\": 2,\n        \"samples\": [\n          \"OWNER INITIATED ROUTINE INSPECT.\",\n          \"ROUTINE INSPECTION\"\n        ],\n        \"semantic_type\": \"\",\n        \"description\": \"\"\n      }\n    },\n    {\n      \"column\": \"employee_id\",\n      \"properties\": {\n        \"dtype\": \"category\",\n        \"num_unique_values\": 143,\n        \"samples\": [\n          \"EE0000893\",\n          \"EE0000122\"\n        ],\n        \"semantic_type\": \"\",\n        \"description\": \"\"\n      }\n    },\n    {\n      \"column\": \"facility_address\",\n      \"properties\": {\n        \"dtype\": \"category\",\n        \"num_unique_values\": 11782,\n        \"samples\": [\n          \"1524 W SUNSET BLVD\",\n          \"707 E 4TH PL\"\n        ],\n        \"semantic_type\": \"\",\n        \"description\": \"\"\n      }\n    },\n    {\n      \"column\": \"facility_city\",\n      \"properties\": {\n        \"dtype\": \"category\",\n        \"num_unique_values\": 1,\n        \"samples\": [\n          \"LOS ANGELES\"\n        ],\n        \"semantic_type\": \"\",\n        \"description\": \"\"\n      }\n    },\n    {\n      \"column\": \"facility_id\",\n      \"properties\": {\n        \"dtype\": \"category\",\n        \"num_unique_values\": 13545,\n        \"samples\": [\n          \"FA0022748\"\n        ],\n        \"semantic_type\": \"\",\n        \"description\": \"\"\n      }\n    },\n    {\n      \"column\": \"facility_state\",\n      \"properties\": {\n        \"dtype\": \"category\",\n        \"num_unique_values\": 1,\n        \"samples\": [\n          \"CA\"\n        ],\n        \"semantic_type\": \"\",\n        \"description\": \"\"\n      }\n    },\n    {\n      \"column\": \"facility_zip\",\n      \"properties\": {\n        \"dtype\": \"category\",\n        \"num_unique_values\": 1053,\n        \"samples\": [\n          \"90015-1606\"\n        ],\n        \"semantic_type\": \"\",\n        \"description\": \"\"\n      }\n    },\n    {\n      \"column\": \"owner_id\",\n      \"properties\": {\n        \"dtype\": \"category\",\n        \"num_unique_values\": 11786,\n        \"samples\": [\n          \"OW0001596\"\n        ],\n        \"semantic_type\": \"\",\n        \"description\": \"\"\n      }\n    },\n    {\n      \"column\": \"owner_name\",\n      \"properties\": {\n        \"dtype\": \"category\",\n        \"num_unique_values\": 11566,\n        \"samples\": [\n          \"LUSCIOUS DUMPLINGS GROUP INC.\"\n        ],\n        \"semantic_type\": \"\",\n        \"description\": \"\"\n      }\n    },\n    {\n      \"column\": \"pe_description\",\n      \"properties\": {\n        \"dtype\": \"category\",\n        \"num_unique_values\": 30,\n        \"samples\": [\n          \"PRIVATE SCHOOL CAFETERIA\"\n        ],\n        \"semantic_type\": \"\",\n        \"description\": \"\"\n      }\n    },\n    {\n      \"column\": \"program_element_pe\",\n      \"properties\": {\n        \"dtype\": \"number\",\n        \"std\": 9,\n        \"min\": 1610,\n        \"max\": 1641,\n        \"num_unique_values\": 18,\n        \"samples\": [\n          1631\n        ],\n        \"semantic_type\": \"\",\n        \"description\": \"\"\n      }\n    },\n    {\n      \"column\": \"program_name\",\n      \"properties\": {\n        \"dtype\": \"category\",\n        \"num_unique_values\": 12928,\n        \"samples\": [\n          \"BELLE VIE\"\n        ],\n        \"semantic_type\": \"\",\n        \"description\": \"\"\n      }\n    },\n    {\n      \"column\": \"program_status\",\n      \"properties\": {\n        \"dtype\": \"category\",\n        \"num_unique_values\": 2,\n        \"samples\": [\n          \"INACTIVE\"\n        ],\n        \"semantic_type\": \"\",\n        \"description\": \"\"\n      }\n    },\n    {\n      \"column\": \"record_id\",\n      \"properties\": {\n        \"dtype\": \"category\",\n        \"num_unique_values\": 14558,\n        \"samples\": [\n          \"PR0006302\"\n        ],\n        \"semantic_type\": \"\",\n        \"description\": \"\"\n      }\n    }\n  ]\n}"
            }
          },
          "metadata": {},
          "execution_count": 67
        }
      ]
    },
    {
      "cell_type": "markdown",
      "source": [
        "Part B:"
      ],
      "metadata": {
        "id": "A4lUKu8mRqXG"
      }
    },
    {
      "cell_type": "markdown",
      "source": [
        "Dropping the row which has missing values"
      ],
      "metadata": {
        "id": "9tRgmoH_-4Z0"
      }
    },
    {
      "cell_type": "code",
      "source": [
        "house_data=house_data.dropna()\n",
        "print(house_data.shape)\n",
        "\n",
        "food_data=food_data.dropna()\n",
        "print(food_data.shape)\n",
        "\n"
      ],
      "metadata": {
        "colab": {
          "base_uri": "https://localhost:8080/"
        },
        "id": "FEbqeZ1M9uFC",
        "outputId": "f0bc40bd-9ad7-40b9-c4df-cb4778921e54"
      },
      "execution_count": null,
      "outputs": [
        {
          "output_type": "stream",
          "name": "stdout",
          "text": [
            "(316, 31)\n",
            "(67541, 20)\n"
          ]
        }
      ]
    },
    {
      "cell_type": "markdown",
      "source": [
        "correcting  data type in food_data and also replacing some unexpexcted values\n",
        "Source: Chat gpt -how to convert incorrect datatype to correct"
      ],
      "metadata": {
        "id": "zDGGecVoSw8R"
      }
    },
    {
      "cell_type": "code",
      "source": [
        "expected_types = {\n",
        "    'serial_number': 'object',\n",
        "    'activity_date': 'object',\n",
        "    'facility_name': 'object',\n",
        "    'score': 'int64',\n",
        "    'grade': 'object',\n",
        "    'service_code': 'int64',\n",
        "    'service_description': 'object',\n",
        "    'employee_id': 'object',\n",
        "    'facility_address': 'object',\n",
        "    'facility_city': 'object',\n",
        "    'facility_id': 'object',\n",
        "    'facility_state': 'object',\n",
        "    'facility_zip': 'object',\n",
        "    'owner_id': 'object',\n",
        "    'owner_name': 'object',\n",
        "    'pe_description': 'object',\n",
        "    'program_element_pe': 'int64',\n",
        "    'program_name': 'object',\n",
        "    'program_status': 'object',\n",
        "    'record_id': 'object'\n",
        "}\n",
        "\n",
        "\n",
        "def check_type(value, expected_type):\n",
        "    if expected_type == 'int64':\n",
        "        return isinstance(value, (int, float)) and not pd.isnull(value) and value == int(value)\n",
        "    elif expected_type == 'float64':\n",
        "        return isinstance(value, (int, float)) and not pd.isnull(value)\n",
        "    elif expected_type == 'object':\n",
        "        return isinstance(value, str) or pd.isnull(value)\n",
        "    return False\n",
        "\n",
        "\n",
        "for column, expected_type in expected_types.items():\n",
        "\n",
        "    for index, value in food_data[column].items():\n",
        "        if not check_type(value, expected_type):\n",
        "            print(f\"Inconsistent data type in column '{column}' at row {index + 1}: {value} (Expected: {expected_type})\")\n",
        "\n",
        "    if food_data[column].dtype != expected_type:\n",
        "        if expected_type == 'int64':\n",
        "            food_data[column] = food_data[column].fillna(0).astype('int64')\n",
        "        elif expected_type == 'float64':\n",
        "            food_data[column] = food_data[column].fillna(0.0).astype('float64')\n",
        "        elif expected_type == 'object':\n",
        "            food_data[column] = food_data[column].fillna('Unknown').astype('object')\n"
      ],
      "metadata": {
        "id": "VehNvqsWSceu"
      },
      "execution_count": null,
      "outputs": []
    },
    {
      "cell_type": "markdown",
      "source": [
        "Frequency of the site address in the house data"
      ],
      "metadata": {
        "id": "8_cM8irYSlyA"
      }
    },
    {
      "cell_type": "code",
      "source": [
        "house_data['zip'] = house_data['SITE ADDRESS'].str[-5:]\n",
        "print(house_data['zip'].value_counts())"
      ],
      "metadata": {
        "colab": {
          "base_uri": "https://localhost:8080/"
        },
        "id": "O-ZoZuvMiGfF",
        "outputId": "c2e56c9a-63fa-4a31-ac93-b6640111ecfe"
      },
      "execution_count": null,
      "outputs": [
        {
          "output_type": "stream",
          "name": "stdout",
          "text": [
            "zip\n",
            "90011    21\n",
            "90037    18\n",
            "90057    17\n",
            "90026    13\n",
            "90006    13\n",
            "         ..\n",
            "90230     1\n",
            "91042     1\n",
            "90035     1\n",
            "91324     1\n",
            "90066     1\n",
            "Name: count, Length: 69, dtype: int64\n"
          ]
        }
      ]
    },
    {
      "cell_type": "markdown",
      "source": [
        "frequency of the facility zip in the restaurant data"
      ],
      "metadata": {
        "id": "FiiFCJoNmpuG"
      }
    },
    {
      "cell_type": "code",
      "source": [
        "food_data['zip'] = food_data['facility_zip'].str[:5]\n",
        "zip_counts = food_data['zip'].value_counts()\n",
        "print( zip_counts)"
      ],
      "metadata": {
        "colab": {
          "base_uri": "https://localhost:8080/"
        },
        "id": "jqSLFRHwUxAZ",
        "outputId": "8a4efa78-5705-4fd8-8701-1f61508d8230"
      },
      "execution_count": null,
      "outputs": [
        {
          "output_type": "stream",
          "name": "stdout",
          "text": [
            "zip\n",
            "90012    2822\n",
            "90028    2651\n",
            "90045    2645\n",
            "90015    2190\n",
            "90036    2133\n",
            "         ... \n",
            "91401       2\n",
            "91307       1\n",
            "91340       1\n",
            "90201       1\n",
            "90053       1\n",
            "Name: count, Length: 99, dtype: int64\n"
          ]
        }
      ]
    },
    {
      "cell_type": "markdown",
      "source": [
        "Graph of grade vs score of restaurant and market data."
      ],
      "metadata": {
        "id": "aB_rdvqJ7MSs"
      }
    },
    {
      "cell_type": "code",
      "source": [
        "\n",
        "plt.scatter(df['score'], df['grade'].astype(str))\n",
        "plt.xlabel('Score')\n",
        "plt.ylabel('Grade')"
      ],
      "metadata": {
        "colab": {
          "base_uri": "https://localhost:8080/",
          "height": 466
        },
        "id": "akIrlVFsnR2O",
        "outputId": "7cbd1949-702f-47b0-8b8a-a96ab569cbed"
      },
      "execution_count": null,
      "outputs": [
        {
          "output_type": "execute_result",
          "data": {
            "text/plain": [
              "Text(0, 0.5, 'Grade')"
            ]
          },
          "metadata": {},
          "execution_count": 152
        },
        {
          "output_type": "display_data",
          "data": {
            "text/plain": [
              "<Figure size 640x480 with 1 Axes>"
            ],
            "image/png": "[encoded data removed]"
          },
          "metadata": {}
        }
      ]
    },
    {
      "cell_type": "markdown",
      "source": [
        "It is the frequency plot of the zip code of housing data exctracted by Site Address column of house data ."
      ],
      "metadata": {
        "id": "KjKfQTsR7nkq"
      }
    },
    {
      "cell_type": "code",
      "source": [
        "zip_counts = house_data['zip'].value_counts()\n",
        "\n",
        "plt.figure(figsize=(15, 6))\n",
        "plt.bar(zip_counts.index.astype(str), zip_counts.values)\n",
        "\n",
        "plt.ylabel('Counts')\n",
        "plt.xlabel('ZIP Codes')\n",
        "plt.title('Frequency of ZIP Codes in house_data')\n",
        "\n",
        "plt.xticks(rotation=90)\n",
        "\n",
        "\n",
        "plt.show()"
      ],
      "metadata": {
        "colab": {
          "base_uri": "https://localhost:8080/",
          "height": 554
        },
        "id": "rGV1V6-EnSKx",
        "outputId": "6158f918-ccab-411d-b315-96631b54a662"
      },
      "execution_count": null,
      "outputs": [
        {
          "output_type": "display_data",
          "data": {
            "text/plain": [
              "<Figure size 1500x600 with 1 Axes>"
            ],
            "image/png": "[encoded data removed]"
          },
          "metadata": {}
        }
      ]
    },
    {
      "cell_type": "markdown",
      "source": [
        "It is the frequency plot of facility_zip"
      ],
      "metadata": {
        "id": "1WmJmfgoCZEq"
      }
    },
    {
      "cell_type": "code",
      "source": [
        "zip_counts1 = food_data['facility_zip'].value_counts()\n",
        "\n",
        "plt.figure(figsize=(18, 6))\n",
        "plt.bar(zip_counts1.index.astype(str), zip_counts1.values)\n",
        "\n",
        "plt.ylabel('Counts')\n",
        "plt.xlabel('ZIP Codes')\n",
        "plt.title('Frequency of facility_zip')\n",
        "\n",
        "plt.xticks(rotation=90)\n",
        "\n",
        "\n",
        "plt.show()"
      ],
      "metadata": {
        "colab": {
          "base_uri": "https://localhost:8080/",
          "height": 468
        },
        "id": "kpV2CiTK84Mi",
        "outputId": "b3985bf0-06bc-45aa-978c-c8ddf6e32a1c"
      },
      "execution_count": null,
      "outputs": [
        {
          "output_type": "display_data",
          "data": {
            "text/plain": [
              "<Figure size 1800x600 with 1 Axes>"
            ],
            "image/png": "[encoded data removed]"
          },
          "metadata": {}
        }
      ]
    },
    {
      "cell_type": "code",
      "source": [
        "!pip install pandasql"
      ],
      "metadata": {
        "colab": {
          "base_uri": "https://localhost:8080/"
        },
        "collapsed": true,
        "id": "0A2wRkl0DGcf",
        "outputId": "26dfd891-da04-45df-8aea-1a319df97c4c"
      },
      "execution_count": null,
      "outputs": [
        {
          "output_type": "stream",
          "name": "stdout",
          "text": [
            "Collecting pandasql\n",
            "  Downloading pandasql-0.7.3.tar.gz (26 kB)\n",
            "  Preparing metadata (setup.py) ... \u001b[?25l\u001b[?25hdone\n",
            "Requirement already satisfied: numpy in /usr/local/lib/python3.10/dist-packages (from pandasql) (1.26.4)\n",
            "Requirement already satisfied: pandas in /usr/local/lib/python3.10/dist-packages (from pandasql) (2.1.4)\n",
            "Requirement already satisfied: sqlalchemy in /usr/local/lib/python3.10/dist-packages (from pandasql) (2.0.32)\n",
            "Requirement already satisfied: python-dateutil>=2.8.2 in /usr/local/lib/python3.10/dist-packages (from pandas->pandasql) (2.8.2)\n",
            "Requirement already satisfied: pytz>=2020.1 in /usr/local/lib/python3.10/dist-packages (from pandas->pandasql) (2024.1)\n",
            "Requirement already satisfied: tzdata>=2022.1 in /usr/local/lib/python3.10/dist-packages (from pandas->pandasql) (2024.1)\n",
            "Requirement already satisfied: typing-extensions>=4.6.0 in /usr/local/lib/python3.10/dist-packages (from sqlalchemy->pandasql) (4.12.2)\n",
            "Requirement already satisfied: greenlet!=0.4.17 in /usr/local/lib/python3.10/dist-packages (from sqlalchemy->pandasql) (3.0.3)\n",
            "Requirement already satisfied: six>=1.5 in /usr/local/lib/python3.10/dist-packages (from python-dateutil>=2.8.2->pandas->pandasql) (1.16.0)\n",
            "Building wheels for collected packages: pandasql\n",
            "  Building wheel for pandasql (setup.py) ... \u001b[?25l\u001b[?25hdone\n",
            "  Created wheel for pandasql: filename=pandasql-0.7.3-py3-none-any.whl size=26772 sha256=7936b6610c8697721fbd3cfb10bbbf62e0109abb5717337ed2b3a8a705342b3f\n",
            "  Stored in directory: /root/.cache/pip/wheels/e9/bc/3a/8434bdcccf5779e72894a9b24fecbdcaf97940607eaf4bcdf9\n",
            "Successfully built pandasql\n",
            "Installing collected packages: pandasql\n",
            "Successfully installed pandasql-0.7.3\n"
          ]
        }
      ]
    },
    {
      "cell_type": "code",
      "source": [
        "import pandasql as ps\n",
        "import sqlite3"
      ],
      "metadata": {
        "id": "tmDE9yijDGoR"
      },
      "execution_count": 183,
      "outputs": []
    },
    {
      "cell_type": "markdown",
      "source": [
        "PART C"
      ],
      "metadata": {
        "id": "3fpOlKwWjgYJ"
      }
    },
    {
      "cell_type": "code",
      "source": [
        "conn = sqlite3.connect(':memory:')\n",
        "\n",
        "house_data.to_sql('housing_projects', conn, index=False, if_exists='replace')\n",
        "\n",
        "query1 = \"\"\"\n",
        "SELECT\n",
        "    [zip] AS ZipCode,\n",
        "    COUNT(*) AS ProjectCount,\n",
        "    SUM([PROJECT TOTAL UNITS]) AS TotalUnits,\n",
        "    AVG([TDC]) AS AvgDevelopmentCost,\n",
        "    MAX([TDC]) AS MaxDevelopmentCost\n",
        "FROM\n",
        "    housing_projects\n",
        "GROUP BY\n",
        "    [zip]\n",
        "ORDER BY\n",
        "    [zip];\n",
        "\n",
        "\"\"\"\n",
        "\n",
        "# Execute the query and load the result into a DataFrame\n",
        "df_summary1 = pd.read_sql_query(query1, conn)\n",
        "print(df_summary1)"
      ],
      "metadata": {
        "colab": {
          "base_uri": "https://localhost:8080/"
        },
        "id": "amEb_k-lQJ0D",
        "outputId": "51956b5a-7b5e-4a1b-d581-04a88aa86ff6"
      },
      "execution_count": 184,
      "outputs": [
        {
          "output_type": "stream",
          "name": "stdout",
          "text": [
            "   ZipCode  ProjectCount  TotalUnits  AvgDevelopmentCost  MaxDevelopmentCost\n",
            "0    90002             2          89        2.845111e+07         47498856.00\n",
            "1    90003            10         487        3.127899e+07         37852556.00\n",
            "2    90004            10         768        2.723768e+07         56064860.00\n",
            "3    90005             2         150        3.650115e+07         40724896.00\n",
            "4    90006            13         776        1.950552e+07         47077567.00\n",
            "..     ...           ...         ...                 ...                 ...\n",
            "64   91406             1          94        3.003195e+07         30031946.00\n",
            "65   91411             1          55        3.091952e+07         30919525.00\n",
            "66   91601             3         171        2.046797e+07         24120894.00\n",
            "67   91605             2         150        1.934306e+07         19405307.46\n",
            "68   91606             1         103        6.307354e+07         63073536.00\n",
            "\n",
            "[69 rows x 5 columns]\n"
          ]
        }
      ]
    },
    {
      "cell_type": "markdown",
      "source": [
        "In this analysis, we created an in-memory SQLite database and loaded housing project data into it. We executed a query to summarize the data by ZIP code, calculating the number of projects, total units, average development cost, and maximum development cost. The results were loaded into a DataFrame and displayed for review"
      ],
      "metadata": {
        "id": "0ARVPfLZpq0Z"
      }
    },
    {
      "cell_type": "code",
      "source": [
        "conn1 = sqlite3.connect(':memory:')\n",
        "\n",
        "food_data.to_sql('health_inspections', conn1, index=False, if_exists='replace')\n",
        "\n",
        "query2 = \"\"\"\n",
        "SELECT\n",
        "    [facility_zip] AS ZipCode,\n",
        "    COUNT(*) AS InspectionCount,\n",
        "    SUM(score) AS TotalScore,\n",
        "    AVG(score) AS AvgScore,\n",
        "    MAX(score) AS MaxScore\n",
        "FROM\n",
        "    health_inspections\n",
        "GROUP BY\n",
        "    [facility_zip]\n",
        "ORDER BY\n",
        "    [facility_zip];\n",
        "\"\"\"\n",
        "\n",
        "df_summary2 = pd.read_sql_query(query2, conn1)\n",
        "\n",
        "print(df_summary2)"
      ],
      "metadata": {
        "id": "GmQ8TEVhUAok",
        "colab": {
          "base_uri": "https://localhost:8080/"
        },
        "outputId": "2b59bc76-0e42-4563-a031-e774cd94f431"
      },
      "execution_count": 193,
      "outputs": [
        {
          "output_type": "stream",
          "name": "stdout",
          "text": [
            "   ZipCode  InspectionCount  TotalScore   AvgScore  MaxScore\n",
            "0    90001             1174      110174  93.844974       100\n",
            "1    90002              265       25082  94.649057       100\n",
            "2    90003             1184      109749  92.693412       100\n",
            "3    90004             1424      132242  92.866573       100\n",
            "4    90005             1656      151403  91.426932       100\n",
            "..     ...              ...         ...        ...       ...\n",
            "94   91505                4         389  97.250000       100\n",
            "95   91601                4         380  95.000000        97\n",
            "96   91602                3         287  95.666667        97\n",
            "97   91604               27        2535  93.888889        98\n",
            "98   92880                6         579  96.500000        99\n",
            "\n",
            "[99 rows x 5 columns]\n"
          ]
        }
      ]
    },
    {
      "cell_type": "markdown",
      "source": [
        "processes the data by creating an in-memory SQLite database, executing a SQL query to calculate summary statistics for each zip code, and handling potential errors during the query execution or result printing."
      ],
      "metadata": {
        "id": "VdcCdPCcqX5B"
      }
    },
    {
      "cell_type": "markdown",
      "source": [
        "PART D"
      ],
      "metadata": {
        "id": "F7NO4jVxjlCO"
      }
    },
    {
      "cell_type": "code",
      "source": [
        "house_data['zip'] = house_data['zip'].astype(str).str.zfill(5)\n",
        "food_data['facility_zip'] = food_data['facility_zip'].astype(str).str.zfill(5)\n",
        "\n",
        "conn = sqlite3.connect(':memory:')\n",
        "house_data.to_sql('housing_projects', conn, index=False, if_exists='replace')\n",
        "food_data.to_sql('health_inspections', conn, index=False, if_exists='replace')\n",
        "\n",
        "join_query = \"\"\"\n",
        "SELECT\n",
        "    hp.[zip] AS ZipCode,\n",
        "    hp.[PROJECT TOTAL UNITS] AS TotalUnits,\n",
        "    hp.[TDC] AS TotalDevelopmentCost,\n",
        "    hi.[score] AS HealthInspectionScore\n",
        "FROM\n",
        "    housing_projects hp\n",
        "JOIN\n",
        "    health_inspections hi\n",
        "ON\n",
        "    hp.[zip] = hi.facility_zip\n",
        "ORDER BY\n",
        "    ZipCode;\n",
        "\"\"\"\n",
        "\n",
        "df_joined = pd.read_sql_query(join_query, conn)\n",
        "\n",
        "print(df_joined)\n"
      ],
      "metadata": {
        "id": "3lmFO2l8UA3U",
        "colab": {
          "base_uri": "https://localhost:8080/"
        },
        "outputId": "9cebf461-78f9-4c1b-b1f3-b72c0943bbd7"
      },
      "execution_count": 200,
      "outputs": [
        {
          "output_type": "stream",
          "name": "stdout",
          "text": [
            "       ZipCode  TotalUnits  TotalDevelopmentCost  HealthInspectionScore\n",
            "0        90002          25             9403369.0                     72\n",
            "1        90002          25             9403369.0                     78\n",
            "2        90002          25             9403369.0                     81\n",
            "3        90002          25             9403369.0                     85\n",
            "4        90002          25             9403369.0                     85\n",
            "...        ...         ...                   ...                    ...\n",
            "324303   91601          40            24120894.0                     97\n",
            "324304   91601          82            20257346.0                     93\n",
            "324305   91601          82            20257346.0                     94\n",
            "324306   91601          82            20257346.0                     96\n",
            "324307   91601          82            20257346.0                     97\n",
            "\n",
            "[324308 rows x 4 columns]\n"
          ]
        }
      ]
    },
    {
      "cell_type": "markdown",
      "source": [
        " joined the \"housing_projects\" and \"health_inspections\" dataframes based on the \"zip\" code, creating a new dataframe with columns for zip code, total units, total development cost, and health inspection score. The joined data is then printed for further analysis"
      ],
      "metadata": {
        "id": "hcQkdgCyqtx8"
      }
    },
    {
      "cell_type": "code",
      "source": [],
      "metadata": {
        "id": "09B0PzBBUA8J"
      },
      "execution_count": null,
      "outputs": []
    },
    {
      "cell_type": "markdown",
      "source": [
        "PART E"
      ],
      "metadata": {
        "id": "vi20F2E9k6hU"
      }
    },
    {
      "cell_type": "markdown",
      "source": [],
      "metadata": {
        "id": "j7kDR9d6nkoN"
      }
    },
    {
      "cell_type": "code",
      "source": [
        "import scipy.stats as stats"
      ],
      "metadata": {
        "id": "BDcAwcPhUA-e"
      },
      "execution_count": 198,
      "outputs": []
    },
    {
      "cell_type": "code",
      "source": [
        "grouped_data = df_joined.groupby('ZipCode').agg({\n",
        "    'TotalDevelopmentCost': 'sum',\n",
        "    'HealthInspectionScore': 'mean'\n",
        "}).reset_index()\n",
        "\n",
        "median_units = grouped_data['TotalDevelopmentCost'].median()\n",
        "\n",
        "group_more_units = grouped_data[grouped_data['TotalDevelopmentCost'] > median_units]['HealthInspectionScore']\n",
        "group_fewer_units = grouped_data[grouped_data['TotalDevelopmentCost'] <= median_units]['HealthInspectionScore']\n",
        "\n",
        "t_stat, p_value = stats.ttest_ind(group_more_units, group_fewer_units)\n",
        "\n",
        "alpha = 0.05\n",
        "\n",
        "if p_value < alpha:\n",
        "    print(f\"Reject the null hypothesis (p-value: {p_value:.5f}).\")\n",
        "    print(\"There is a significant difference in average health inspection scores between the two groups.\")\n",
        "else:\n",
        "    print(f\"Fail to reject the null hypothesis (p-value: {p_value:.5f}).\")\n",
        "    print(\"There is no significant difference in average health inspection scores between the two groups.\")"
      ],
      "metadata": {
        "id": "IXCkTCoVUBA7",
        "colab": {
          "base_uri": "https://localhost:8080/"
        },
        "outputId": "7f6b0945-4e86-4f5a-f62d-299bafeb363a"
      },
      "execution_count": 201,
      "outputs": [
        {
          "output_type": "stream",
          "name": "stdout",
          "text": [
            "Fail to reject the null hypothesis (p-value: 0.06272).\n",
            "There is no significant difference in average health inspection scores between the two groups.\n"
          ]
        }
      ]
    },
    {
      "cell_type": "markdown",
      "source": [
        "joined data by zip code, calculates the total development cost and average health inspection score for each group, compares the average health inspection scores between groups with more and fewer units than the median, and conducts a t-test to determine if there is a significant difference in average health inspection scores between the two groups."
      ],
      "metadata": {
        "id": "hWOMA57yq5qx"
      }
    },
    {
      "cell_type": "code",
      "source": [
        "print(f\"p-value: {p_value:.5f}\")"
      ],
      "metadata": {
        "id": "H_R352ltUBDe",
        "colab": {
          "base_uri": "https://localhost:8080/"
        },
        "outputId": "acc5f0f7-a1a6-46eb-a451-3f653b59f742"
      },
      "execution_count": 204,
      "outputs": [
        {
          "output_type": "stream",
          "name": "stdout",
          "text": [
            "p-value: 0.06272\n"
          ]
        }
      ]
    },
    {
      "cell_type": "markdown",
      "source": [
        "QUESTION 2."
      ],
      "metadata": {
        "id": "NzKWLRx6WD8W"
      }
    },
    {
      "cell_type": "code",
      "source": [
        "phd_girls_data=pd.read_csv('/content/drive/MyDrive/Table_17.4_SC_Phd_girls.csv')\n",
        "phd_girls_data.head()"
      ],
      "metadata": {
        "id": "MKyNNCdZWGF5",
        "colab": {
          "base_uri": "https://localhost:8080/",
          "height": 235
        },
        "outputId": "6ca4554b-02e1-4d1c-fe40-71f9756858f6"
      },
      "execution_count": 178,
      "outputs": [
        {
          "output_type": "execute_result",
          "data": {
            "text/plain": [
              "   Name/ Year  2022  2021  2020  2019  2018  2017  2016  2015  2014  ...  \\\n",
              "0   Gurdaspur   NaN   NaN   0.0   0.0   NaN   0.0   0.0   0.0   0.0  ...   \n",
              "1   Pathankot   NaN   NaN   0.0   0.0   NaN   0.0   0.0   0.0   0.0  ...   \n",
              "2    Amritsar   NaN   NaN  29.0  13.0  13.0  13.0  13.0   7.0  27.0  ...   \n",
              "3  Tarn Taran   NaN   NaN   0.0   0.0   NaN   0.0   0.0   0.0   0.0  ...   \n",
              "4  Kapurthala   NaN   NaN  44.0   0.0   NaN   0.0   0.0   0.0   0.0  ...   \n",
              "\n",
              "   1995  1994  1993  1992  1991  1990  1989  1988  1987  1986  \n",
              "0   0.0   0.0   0.0   0.0   0.0   0.0   0.0   0.0   0.0   0.0  \n",
              "1   NaN   NaN   NaN   NaN   NaN   NaN   NaN   NaN   NaN   NaN  \n",
              "2   4.0   0.0   0.0   0.0   1.0   1.0   2.0   0.0   0.0   0.0  \n",
              "3   NaN   NaN   NaN   NaN   NaN   NaN   NaN   NaN   NaN   NaN  \n",
              "4   0.0   0.0   0.0   0.0   0.0   0.0   0.0   0.0   0.0   0.0  \n",
              "\n",
              "[5 rows x 38 columns]"
            ],
            "text/html": [
              "\n",
              "  <div id=\"df-424bd2f8-40e3-4f7f-baaf-3cb8ca068557\" class=\"colab-df-container\">\n",
              "    <div>\n",
              "<style scoped>\n",
              "    .dataframe tbody tr th:only-of-type {\n",
              "        vertical-align: middle;\n",
              "    }\n",
              "\n",
              "    .dataframe tbody tr th {\n",
              "        vertical-align: top;\n",
              "    }\n",
              "\n",
              "    .dataframe thead th {\n",
              "        text-align: right;\n",
              "    }\n",
              "</style>\n",
              "<table border=\"1\" class=\"dataframe\">\n",
              "  <thead>\n",
              "    <tr style=\"text-align: right;\">\n",
              "      <th></th>\n",
              "      <th>Name/ Year</th>\n",
              "      <th>2022</th>\n",
              "      <th>2021</th>\n",
              "      <th>2020</th>\n",
              "      <th>2019</th>\n",
              "      <th>2018</th>\n",
              "      <th>2017</th>\n",
              "      <th>2016</th>\n",
              "      <th>2015</th>\n",
              "      <th>2014</th>\n",
              "      <th>...</th>\n",
              "      <th>1995</th>\n",
              "      <th>1994</th>\n",
              "      <th>1993</th>\n",
              "      <th>1992</th>\n",
              "      <th>1991</th>\n",
              "      <th>1990</th>\n",
              "      <th>1989</th>\n",
              "      <th>1988</th>\n",
              "      <th>1987</th>\n",
              "      <th>1986</th>\n",
              "    </tr>\n",
              "  </thead>\n",
              "  <tbody>\n",
              "    <tr>\n",
              "      <th>0</th>\n",
              "      <td>Gurdaspur</td>\n",
              "      <td>NaN</td>\n",
              "      <td>NaN</td>\n",
              "      <td>0.0</td>\n",
              "      <td>0.0</td>\n",
              "      <td>NaN</td>\n",
              "      <td>0.0</td>\n",
              "      <td>0.0</td>\n",
              "      <td>0.0</td>\n",
              "      <td>0.0</td>\n",
              "      <td>...</td>\n",
              "      <td>0.0</td>\n",
              "      <td>0.0</td>\n",
              "      <td>0.0</td>\n",
              "      <td>0.0</td>\n",
              "      <td>0.0</td>\n",
              "      <td>0.0</td>\n",
              "      <td>0.0</td>\n",
              "      <td>0.0</td>\n",
              "      <td>0.0</td>\n",
              "      <td>0.0</td>\n",
              "    </tr>\n",
              "    <tr>\n",
              "      <th>1</th>\n",
              "      <td>Pathankot</td>\n",
              "      <td>NaN</td>\n",
              "      <td>NaN</td>\n",
              "      <td>0.0</td>\n",
              "      <td>0.0</td>\n",
              "      <td>NaN</td>\n",
              "      <td>0.0</td>\n",
              "      <td>0.0</td>\n",
              "      <td>0.0</td>\n",
              "      <td>0.0</td>\n",
              "      <td>...</td>\n",
              "      <td>NaN</td>\n",
              "      <td>NaN</td>\n",
              "      <td>NaN</td>\n",
              "      <td>NaN</td>\n",
              "      <td>NaN</td>\n",
              "      <td>NaN</td>\n",
              "      <td>NaN</td>\n",
              "      <td>NaN</td>\n",
              "      <td>NaN</td>\n",
              "      <td>NaN</td>\n",
              "    </tr>\n",
              "    <tr>\n",
              "      <th>2</th>\n",
              "      <td>Amritsar</td>\n",
              "      <td>NaN</td>\n",
              "      <td>NaN</td>\n",
              "      <td>29.0</td>\n",
              "      <td>13.0</td>\n",
              "      <td>13.0</td>\n",
              "      <td>13.0</td>\n",
              "      <td>13.0</td>\n",
              "      <td>7.0</td>\n",
              "      <td>27.0</td>\n",
              "      <td>...</td>\n",
              "      <td>4.0</td>\n",
              "      <td>0.0</td>\n",
              "      <td>0.0</td>\n",
              "      <td>0.0</td>\n",
              "      <td>1.0</td>\n",
              "      <td>1.0</td>\n",
              "      <td>2.0</td>\n",
              "      <td>0.0</td>\n",
              "      <td>0.0</td>\n",
              "      <td>0.0</td>\n",
              "    </tr>\n",
              "    <tr>\n",
              "      <th>3</th>\n",
              "      <td>Tarn Taran</td>\n",
              "      <td>NaN</td>\n",
              "      <td>NaN</td>\n",
              "      <td>0.0</td>\n",
              "      <td>0.0</td>\n",
              "      <td>NaN</td>\n",
              "      <td>0.0</td>\n",
              "      <td>0.0</td>\n",
              "      <td>0.0</td>\n",
              "      <td>0.0</td>\n",
              "      <td>...</td>\n",
              "      <td>NaN</td>\n",
              "      <td>NaN</td>\n",
              "      <td>NaN</td>\n",
              "      <td>NaN</td>\n",
              "      <td>NaN</td>\n",
              "      <td>NaN</td>\n",
              "      <td>NaN</td>\n",
              "      <td>NaN</td>\n",
              "      <td>NaN</td>\n",
              "      <td>NaN</td>\n",
              "    </tr>\n",
              "    <tr>\n",
              "      <th>4</th>\n",
              "      <td>Kapurthala</td>\n",
              "      <td>NaN</td>\n",
              "      <td>NaN</td>\n",
              "      <td>44.0</td>\n",
              "      <td>0.0</td>\n",
              "      <td>NaN</td>\n",
              "      <td>0.0</td>\n",
              "      <td>0.0</td>\n",
              "      <td>0.0</td>\n",
              "      <td>0.0</td>\n",
              "      <td>...</td>\n",
              "      <td>0.0</td>\n",
              "      <td>0.0</td>\n",
              "      <td>0.0</td>\n",
              "      <td>0.0</td>\n",
              "      <td>0.0</td>\n",
              "      <td>0.0</td>\n",
              "      <td>0.0</td>\n",
              "      <td>0.0</td>\n",
              "      <td>0.0</td>\n",
              "      <td>0.0</td>\n",
              "    </tr>\n",
              "  </tbody>\n",
              "</table>\n",
              "<p>5 rows × 38 columns</p>\n",
              "</div>\n",
              "    <div class=\"colab-df-buttons\">\n",
              "\n",
              "  <div class=\"colab-df-container\">\n",
              "    <button class=\"colab-df-convert\" onclick=\"convertToInteractive('df-424bd2f8-40e3-4f7f-baaf-3cb8ca068557')\"\n",
              "            title=\"Convert this dataframe to an interactive table.\"\n",
              "            style=\"display:none;\">\n",
              "\n",
              "  <svg xmlns=\"http://www.w3.org/2000/svg\" height=\"24px\" viewBox=\"0 -960 960 960\">\n",
              "    <path d=\"M120-120v-720h720v720H120Zm60-500h600v-160H180v160Zm220 220h160v-160H400v160Zm0 220h160v-160H400v160ZM180-400h160v-160H180v160Zm440 0h160v-160H620v160ZM180-180h160v-160H180v160Zm440 0h160v-160H620v160Z\"/>\n",
              "  </svg>\n",
              "    </button>\n",
              "\n",
              "  <style>\n",
              "    .colab-df-container {\n",
              "      display:flex;\n",
              "      gap: 12px;\n",
              "    }\n",
              "\n",
              "    .colab-df-convert {\n",
              "      background-color: #E8F0FE;\n",
              "      border: none;\n",
              "      border-radius: 50%;\n",
              "      cursor: pointer;\n",
              "      display: none;\n",
              "      fill: #1967D2;\n",
              "      height: 32px;\n",
              "      padding: 0 0 0 0;\n",
              "      width: 32px;\n",
              "    }\n",
              "\n",
              "    .colab-df-convert:hover {\n",
              "      background-color: #E2EBFA;\n",
              "      box-shadow: 0px 1px 2px rgba(60, 64, 67, 0.3), 0px 1px 3px 1px rgba(60, 64, 67, 0.15);\n",
              "      fill: #174EA6;\n",
              "    }\n",
              "\n",
              "    .colab-df-buttons div {\n",
              "      margin-bottom: 4px;\n",
              "    }\n",
              "\n",
              "    [theme=dark] .colab-df-convert {\n",
              "      background-color: #3B4455;\n",
              "      fill: #D2E3FC;\n",
              "    }\n",
              "\n",
              "    [theme=dark] .colab-df-convert:hover {\n",
              "      background-color: #434B5C;\n",
              "      box-shadow: 0px 1px 3px 1px rgba(0, 0, 0, 0.15);\n",
              "      filter: drop-shadow(0px 1px 2px rgba(0, 0, 0, 0.3));\n",
              "      fill: #FFFFFF;\n",
              "    }\n",
              "  </style>\n",
              "\n",
              "    <script>\n",
              "      const buttonEl =\n",
              "        document.querySelector('#df-424bd2f8-40e3-4f7f-baaf-3cb8ca068557 button.colab-df-convert');\n",
              "      buttonEl.style.display =\n",
              "        google.colab.kernel.accessAllowed ? 'block' : 'none';\n",
              "\n",
              "      async function convertToInteractive(key) {\n",
              "        const element = document.querySelector('#df-424bd2f8-40e3-4f7f-baaf-3cb8ca068557');\n",
              "        const dataTable =\n",
              "          await google.colab.kernel.invokeFunction('convertToInteractive',\n",
              "                                                    [key], {});\n",
              "        if (!dataTable) return;\n",
              "\n",
              "        const docLinkHtml = 'Like what you see? Visit the ' +\n",
              "          '<a target=\"_blank\" href=https://colab.research.google.com/notebooks/data_table.ipynb>data table notebook</a>'\n",
              "          + ' to learn more about interactive tables.';\n",
              "        element.innerHTML = '';\n",
              "        dataTable['output_type'] = 'display_data';\n",
              "        await google.colab.output.renderOutput(dataTable, element);\n",
              "        const docLink = document.createElement('div');\n",
              "        docLink.innerHTML = docLinkHtml;\n",
              "        element.appendChild(docLink);\n",
              "      }\n",
              "    </script>\n",
              "  </div>\n",
              "\n",
              "\n",
              "<div id=\"df-e79ae22e-51d0-45f9-982a-77c7783e6734\">\n",
              "  <button class=\"colab-df-quickchart\" onclick=\"quickchart('df-e79ae22e-51d0-45f9-982a-77c7783e6734')\"\n",
              "            title=\"Suggest charts\"\n",
              "            style=\"display:none;\">\n",
              "\n",
              "<svg xmlns=\"http://www.w3.org/2000/svg\" height=\"24px\"viewBox=\"0 0 24 24\"\n",
              "     width=\"24px\">\n",
              "    <g>\n",
              "        <path d=\"M19 3H5c-1.1 0-2 .9-2 2v14c0 1.1.9 2 2 2h14c1.1 0 2-.9 2-2V5c0-1.1-.9-2-2-2zM9 17H7v-7h2v7zm4 0h-2V7h2v10zm4 0h-2v-4h2v4z\"/>\n",
              "    </g>\n",
              "</svg>\n",
              "  </button>\n",
              "\n",
              "<style>\n",
              "  .colab-df-quickchart {\n",
              "      --bg-color: #E8F0FE;\n",
              "      --fill-color: #1967D2;\n",
              "      --hover-bg-color: #E2EBFA;\n",
              "      --hover-fill-color: #174EA6;\n",
              "      --disabled-fill-color: #AAA;\n",
              "      --disabled-bg-color: #DDD;\n",
              "  }\n",
              "\n",
              "  [theme=dark] .colab-df-quickchart {\n",
              "      --bg-color: #3B4455;\n",
              "      --fill-color: #D2E3FC;\n",
              "      --hover-bg-color: #434B5C;\n",
              "      --hover-fill-color: #FFFFFF;\n",
              "      --disabled-bg-color: #3B4455;\n",
              "      --disabled-fill-color: #666;\n",
              "  }\n",
              "\n",
              "  .colab-df-quickchart {\n",
              "    background-color: var(--bg-color);\n",
              "    border: none;\n",
              "    border-radius: 50%;\n",
              "    cursor: pointer;\n",
              "    display: none;\n",
              "    fill: var(--fill-color);\n",
              "    height: 32px;\n",
              "    padding: 0;\n",
              "    width: 32px;\n",
              "  }\n",
              "\n",
              "  .colab-df-quickchart:hover {\n",
              "    background-color: var(--hover-bg-color);\n",
              "    box-shadow: 0 1px 2px rgba(60, 64, 67, 0.3), 0 1px 3px 1px rgba(60, 64, 67, 0.15);\n",
              "    fill: var(--button-hover-fill-color);\n",
              "  }\n",
              "\n",
              "  .colab-df-quickchart-complete:disabled,\n",
              "  .colab-df-quickchart-complete:disabled:hover {\n",
              "    background-color: var(--disabled-bg-color);\n",
              "    fill: var(--disabled-fill-color);\n",
              "    box-shadow: none;\n",
              "  }\n",
              "\n",
              "  .colab-df-spinner {\n",
              "    border: 2px solid var(--fill-color);\n",
              "    border-color: transparent;\n",
              "    border-bottom-color: var(--fill-color);\n",
              "    animation:\n",
              "      spin 1s steps(1) infinite;\n",
              "  }\n",
              "\n",
              "  @keyframes spin {\n",
              "    0% {\n",
              "      border-color: transparent;\n",
              "      border-bottom-color: var(--fill-color);\n",
              "      border-left-color: var(--fill-color);\n",
              "    }\n",
              "    20% {\n",
              "      border-color: transparent;\n",
              "      border-left-color: var(--fill-color);\n",
              "      border-top-color: var(--fill-color);\n",
              "    }\n",
              "    30% {\n",
              "      border-color: transparent;\n",
              "      border-left-color: var(--fill-color);\n",
              "      border-top-color: var(--fill-color);\n",
              "      border-right-color: var(--fill-color);\n",
              "    }\n",
              "    40% {\n",
              "      border-color: transparent;\n",
              "      border-right-color: var(--fill-color);\n",
              "      border-top-color: var(--fill-color);\n",
              "    }\n",
              "    60% {\n",
              "      border-color: transparent;\n",
              "      border-right-color: var(--fill-color);\n",
              "    }\n",
              "    80% {\n",
              "      border-color: transparent;\n",
              "      border-right-color: var(--fill-color);\n",
              "      border-bottom-color: var(--fill-color);\n",
              "    }\n",
              "    90% {\n",
              "      border-color: transparent;\n",
              "      border-bottom-color: var(--fill-color);\n",
              "    }\n",
              "  }\n",
              "</style>\n",
              "\n",
              "  <script>\n",
              "    async function quickchart(key) {\n",
              "      const quickchartButtonEl =\n",
              "        document.querySelector('#' + key + ' button');\n",
              "      quickchartButtonEl.disabled = true;  // To prevent multiple clicks.\n",
              "      quickchartButtonEl.classList.add('colab-df-spinner');\n",
              "      try {\n",
              "        const charts = await google.colab.kernel.invokeFunction(\n",
              "            'suggestCharts', [key], {});\n",
              "      } catch (error) {\n",
              "        console.error('Error during call to suggestCharts:', error);\n",
              "      }\n",
              "      quickchartButtonEl.classList.remove('colab-df-spinner');\n",
              "      quickchartButtonEl.classList.add('colab-df-quickchart-complete');\n",
              "    }\n",
              "    (() => {\n",
              "      let quickchartButtonEl =\n",
              "        document.querySelector('#df-e79ae22e-51d0-45f9-982a-77c7783e6734 button');\n",
              "      quickchartButtonEl.style.display =\n",
              "        google.colab.kernel.accessAllowed ? 'block' : 'none';\n",
              "    })();\n",
              "  </script>\n",
              "</div>\n",
              "\n",
              "    </div>\n",
              "  </div>\n"
            ],
            "application/vnd.google.colaboratory.intrinsic+json": {
              "type": "dataframe",
              "variable_name": "phd_girls_data"
            }
          },
          "metadata": {},
          "execution_count": 178
        }
      ]
    },
    {
      "cell_type": "code",
      "source": [
        "data = phd_girls_data\n",
        "\n",
        "data_excluding_first_column = data.iloc[:, 1:]\n",
        "\n",
        "first_row = data_excluding_first_column.iloc[0]\n",
        "last_row = data_excluding_first_column.iloc[-1]\n",
        "\n",
        "indices = range(len(first_row))\n",
        "\n",
        "plt.bar(indices, first_row, width=0.4, label='First Row', align='center')\n",
        "plt.bar([i + 0.4 for i in indices], last_row, width=0.4, label='Last Row', align='center')\n",
        "\n",
        "plt.xlabel('Columns')\n",
        "plt.ylabel('Values')\n",
        "plt.title('Numbers of SC girls doing PHD in Punjab')\n",
        "\n",
        "plt.xticks([i + 0.2 for i in indices], data_excluding_first_column.columns, rotation=45)\n",
        "\n",
        "plt.legend()\n",
        "\n",
        "plt.tight_layout()\n",
        "plt.show()"
      ],
      "metadata": {
        "colab": {
          "base_uri": "https://localhost:8080/",
          "height": 487
        },
        "id": "R1sVsV9zX3Wv",
        "outputId": "8ec1edae-2054-43e9-fb4c-187a82d37de4"
      },
      "execution_count": 176,
      "outputs": [
        {
          "output_type": "display_data",
          "data": {
            "text/plain": [
              "<Figure size 640x480 with 1 Axes>"
            ],
            "image/png": "[encoded data removed]"
          },
          "metadata": {}
        }
      ]
    },
    {
      "cell_type": "markdown",
      "source": [
        "source -chat gpt (how to plot graph of column vs column in given data)"
      ],
      "metadata": {
        "id": "abZ9jX9qnnAz"
      }
    },
    {
      "cell_type": "code",
      "source": [
        "data_excluding_edges = data.iloc[1:-1]\n",
        "\n",
        "x_column = data_excluding_edges.iloc[:, 0]\n",
        "y_column_4 = data_excluding_edges.iloc[:, 3]\n",
        "y_column_14 = data_excluding_edges.iloc[:, 13]\n",
        "\n",
        "indices = range(len(x_column))\n",
        "\n",
        "plt.figure(figsize=(14, 7))\n",
        "\n",
        "plt.bar(indices, y_column_4, width=0.4, label='2021', align='center', alpha=0.5, color='blue', edgecolor='black')\n",
        "plt.bar([i + 0.4 for i in indices], y_column_14, width=0.4, label='2010', align='center', alpha=0.5, color='orange', edgecolor='black')\n",
        "\n",
        "plt.xlabel('District')\n",
        "plt.ylabel('Number')\n",
        "plt.title('2021 vs 2010 statistics of PHD SC girls in Punjab district')\n",
        "\n",
        "plt.xticks([i + 0.2 for i in indices], x_column, rotation=90)\n",
        "\n",
        "plt.legend()\n",
        "\n",
        "plt.tight_layout()\n",
        "plt.show()"
      ],
      "metadata": {
        "colab": {
          "base_uri": "https://localhost:8080/",
          "height": 591
        },
        "id": "3axLPbBpX3xA",
        "outputId": "54077caa-a281-4bce-8ea8-ee4fed23271e"
      },
      "execution_count": 177,
      "outputs": [
        {
          "output_type": "display_data",
          "data": {
            "text/plain": [
              "<Figure size 1400x700 with 1 Axes>"
            ],
            "image/png": "[encoded data removed]"
          },
          "metadata": {}
        }
      ]
    },
    {
      "cell_type": "code",
      "source": [],
      "metadata": {
        "id": "ntgcJzG2dSTH"
      },
      "execution_count": 177,
      "outputs": []
    }
  ]
}